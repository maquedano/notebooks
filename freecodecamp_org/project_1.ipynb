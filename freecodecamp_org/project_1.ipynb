{
 "cells": [
  {
   "cell_type": "markdown",
   "id": "81b83897-1dda-4492-a044-1ce26993595b",
   "metadata": {},
   "source": [
    "# Mean-Variance-Standard Deviation Calculator\n",
    "\n",
    "**This notebook addresses project 1 of the course at freecodecamp.org**\n",
    "> https://www.freecodecamp.org/learn/data-analysis-with-python/data-analysis-with-python-projects/mean-variance-standard-deviation-calculator"
   ]
  },
  {
   "cell_type": "markdown",
   "id": "108c34c0",
   "metadata": {},
   "source": [
    "Create a function named calculate() in mean_var_std.py that uses Numpy to output the mean, variance, standard deviation, max, min, and sum of the rows, columns, and elements in a 3 x 3 matrix.\n",
    "\n",
    "The input of the function should be a list containing 9 digits. The function should convert the list into a 3 x 3 Numpy array, and then return a dictionary containing the mean, variance, standard deviation, max, min, and sum along both axes and for the flattened matrix.\n",
    "\n",
    "If a list containing less than 9 elements is passed into the function, it should raise a ValueError exception with the message: \"List must contain nine numbers.\" The values in the returned dictionary should be lists and not Numpy arrays."
   ]
  },
  {
   "cell_type": "code",
   "execution_count": 1,
   "id": "b4d1e028-c1d5-4ada-b3c1-68b6aabea4a5",
   "metadata": {
    "tags": []
   },
   "outputs": [],
   "source": [
    "import numpy as np\n",
    "\n",
    "def convert_to_array_and_calculate_stats(list):\n",
    "    if len(list) != 9:\n",
    "        raise ValueError(\"List must contain nine numbers.\")\n",
    "    else:\n",
    "        array = np.array(list).reshape(3,3)\n",
    "      # Calculate the statistics\n",
    "        stats = {\n",
    "            'mean': [array.mean(axis=0).tolist(), array.mean(axis=1).tolist(), array.mean().tolist()],\n",
    "            'variance': [array.var(axis=0).tolist(), array.var(axis=1).tolist(), array.var().tolist()],\n",
    "            'standard deviation': [array.std(axis=0).tolist(), array.std(axis=1).tolist(), array.std().tolist()],\n",
    "            'max': [array.max(axis=0).tolist(), array.max(axis=1).tolist(), array.max().tolist()],\n",
    "            'min': [array.min(axis=0).tolist(), array.min(axis=1).tolist(), array.min().tolist()],\n",
    "            'sum': [array.sum(axis=0).tolist(), array.sum(axis=1).tolist(), array.sum().tolist()]\n",
    "        }\n",
    "  \n",
    "        return stats"
   ]
  },
  {
   "cell_type": "code",
   "execution_count": 2,
   "id": "a854bba8-eb02-4068-b256-41484a4c0e4a",
   "metadata": {
    "tags": []
   },
   "outputs": [
    {
     "data": {
      "text/plain": [
       "{'mean': [[4.0, 5.0, 6.0], [2.0, 5.0, 8.0], 5.0],\n",
       " 'variance': [[6.0, 6.0, 6.0],\n",
       "  [0.6666666666666666, 0.6666666666666666, 0.6666666666666666],\n",
       "  6.666666666666667],\n",
       " 'standard deviation': [[2.449489742783178,\n",
       "   2.449489742783178,\n",
       "   2.449489742783178],\n",
       "  [0.816496580927726, 0.816496580927726, 0.816496580927726],\n",
       "  2.581988897471611],\n",
       " 'max': [[7, 8, 9], [3, 6, 9], 9],\n",
       " 'min': [[1, 2, 3], [1, 4, 7], 1],\n",
       " 'sum': [[12, 15, 18], [6, 15, 24], 45]}"
      ]
     },
     "execution_count": 2,
     "metadata": {},
     "output_type": "execute_result"
    }
   ],
   "source": [
    "digits = [1, 2, 3, 4, 5, 6, 7, 8, 9]\n",
    "result = convert_to_array_and_calculate_stats(digits)\n",
    "result"
   ]
  }
 ],
 "metadata": {
  "kernelspec": {
   "display_name": "Python 3 (ipykernel)",
   "language": "python",
   "name": "python3"
  },
  "language_info": {
   "codemirror_mode": {
    "name": "ipython",
    "version": 3
   },
   "file_extension": ".py",
   "mimetype": "text/x-python",
   "name": "python",
   "nbconvert_exporter": "python",
   "pygments_lexer": "ipython3",
   "version": "3.11.5"
  },
  "toc-showmarkdowntxt": true
 },
 "nbformat": 4,
 "nbformat_minor": 5
}
