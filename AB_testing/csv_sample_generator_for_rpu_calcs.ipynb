{
 "cells": [
  {
   "cell_type": "markdown",
   "id": "a93c959c",
   "metadata": {},
   "source": [
    "# CSV generator for RPU sample data\n",
    "**I used this notebook to find, calculate and generate CSV file for RPU sample data**\n",
    "> This was a useful for testing the RPU calculator that I [developed](https://github.com/maquedano/shiny_app_AB_Rpu_calc) and that\n",
    "is deployed on https://maquedano.shinyapps.io/rpu-ab-test-calc/"
   ]
  },
  {
   "cell_type": "markdown",
   "id": "9dbe983b",
   "metadata": {},
   "source": [
    "---"
   ]
  },
  {
   "cell_type": "code",
   "execution_count": 7,
   "id": "4f8c0986",
   "metadata": {},
   "outputs": [],
   "source": [
    "import numpy as np\n",
    "import pandas as pd\n",
    "import matplotlib.pyplot as plt\n",
    "import scipy.stats as stats\n",
    "from scipy.stats import mannwhitneyu\n",
    "import scipy.stats as scs\n",
    "import matplotlib.ticker as mtick\n",
    "import seaborn as sns\n",
    "import math\n",
    "from matplotlib.ticker import AutoMinorLocator, FormatStrFormatter"
   ]
  },
  {
   "cell_type": "markdown",
   "id": "748e0e49",
   "metadata": {},
   "source": [
    "* (A) Run this cell below to generate some gamma random data distribution based on mean and standard deviation.\n",
    "So far this is the best method that I found resembles a RPU dist. But all of this I have done it quick and dirty, so might be something more fitting in the future."
   ]
  },
  {
   "cell_type": "code",
   "execution_count": 8,
   "id": "580ee612",
   "metadata": {},
   "outputs": [],
   "source": [
    "def calculate_gamma_params(mean, std_dev):\n",
    "    # Calculate shape (k) and scale (theta) parameters\n",
    "    k = (mean / std_dev) ** 2\n",
    "    theta = (std_dev ** 2) / mean\n",
    "    \n",
    "    return k, theta\n",
    "\n",
    "mean = 3.87\n",
    "mean_2 = 4.06\n",
    "std_dev = 28.53\n",
    "shape, scale = calculate_gamma_params(mean, std_dev)\n",
    "shape2, scale2 = calculate_gamma_params(mean_2, std_dev)\n",
    "rng = np.random.default_rng()\n",
    "data_a = rng.gamma(shape, scale, size=9767)\n",
    "data_b = rng.gamma(shape2, scale2, size=9767)"
   ]
  },
  {
   "cell_type": "markdown",
   "id": "31308e19",
   "metadata": {},
   "source": [
    "* (B) Run this cell below to generate some normal random data distribution "
   ]
  },
  {
   "cell_type": "code",
   "execution_count": null,
   "id": "714be87f",
   "metadata": {},
   "outputs": [],
   "source": [
    "mean = 3.87\n",
    "mean_2 = 4.56\n",
    "std_dev = 28.53\n",
    "\n",
    "rng = np.random.default_rng(300)\n",
    "data_a = rng.normal(mean, std_dev, size=9767)\n",
    "data_b = rng.normal(mean, std_dev, size=9767)"
   ]
  },
  {
   "cell_type": "markdown",
   "id": "39002323",
   "metadata": {},
   "source": [
    "* (C) Run this cell below to generate some lognormal distribution"
   ]
  },
  {
   "cell_type": "code",
   "execution_count": null,
   "id": "585b4f9a",
   "metadata": {},
   "outputs": [],
   "source": [
    "rng = np.random.default_rng(300)\n",
    "data_a = rng.lognormal(math.log(3.87), sigma=1.4, size=9767)\n",
    "data_b = rng.lognormal(math.log(4.01), sigma=1.4, size=9767)"
   ]
  },
  {
   "cell_type": "markdown",
   "id": "96bf7842",
   "metadata": {},
   "source": [
    "* Then I round and remove the decimals (just a choice, prices could have decimals)\n",
    "* Then I eliminate the negative values and replace them with zeroes, as the RPU data usually have a looot of zeroes. \n",
    "* Quickly plort the distributions and check the mean and standard deviation"
   ]
  },
  {
   "cell_type": "code",
   "execution_count": 9,
   "id": "0d463240",
   "metadata": {},
   "outputs": [
    {
     "name": "stdout",
     "output_type": "stream",
     "text": [
      "5.060612265792976\n",
      "38.85482152161385\n",
      "4.049554622709122\n",
      "25.878028667660054\n"
     ]
    },
    {
     "data": {
      "image/png": "[encoded data removed]",
      "text/plain": [
       "<Figure size 640x480 with 1 Axes>"
      ]
     },
     "metadata": {},
     "output_type": "display_data"
    }
   ],
   "source": [
    "data_a = data_a.round(0)\n",
    "data_a[data_a <1] = 0\n",
    "data_b = data_b.round(0)\n",
    "data_b[data_b <1] = 0\n",
    "\n",
    "# Create a sample DataFrame\n",
    "data = {'Control': data_a,\n",
    "        'Variant': data_b}\n",
    "\n",
    "#arr[:] = np.nan\n",
    "df = pd.DataFrame(data, columns=['Control', 'Variant'])\n",
    "sns.kdeplot(df)\n",
    "print(data_a.mean())\n",
    "print(data_a.std())\n",
    "print(data_b.mean())\n",
    "print(data_b.std())"
   ]
  },
  {
   "cell_type": "markdown",
   "id": "a363efe2",
   "metadata": {},
   "source": [
    "* I convert the dataframe to string and remove all the annoying the decimal separators ( .0)\n",
    "* Finally I create the CSV file and export the dataframe"
   ]
  },
  {
   "cell_type": "code",
   "execution_count": 11,
   "id": "f123ee5f",
   "metadata": {},
   "outputs": [],
   "source": [
    "df = df.astype(str)\n",
    "df = df.replace(to_replace = \"\\.0\", value = \"\", regex = True)\n",
    "df.iloc[-41:,1] = \"\"\n",
    "\n",
    "df.to_csv('output/SampleRevenueData.csv', sep=',', index=False, encoding='utf-8')"
   ]
  }
 ],
 "metadata": {
  "kernelspec": {
   "display_name": "Python 3 (ipykernel)",
   "language": "python",
   "name": "python3"
  },
  "language_info": {
   "codemirror_mode": {
    "name": "ipython",
    "version": 3
   },
   "file_extension": ".py",
   "mimetype": "text/x-python",
   "name": "python",
   "nbconvert_exporter": "python",
   "pygments_lexer": "ipython3",
   "version": "3.11.5"
  }
 },
 "nbformat": 4,
 "nbformat_minor": 5
}
