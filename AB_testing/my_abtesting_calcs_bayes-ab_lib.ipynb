{
 "cells": [
  {
   "cell_type": "markdown",
   "id": "a93c959c",
   "metadata": {},
   "source": [
    "# Using bayes package to calculate bayesian AB tests results\n",
    "Trying to see if https://pypi.org/project/bayes-ab/ could help in calculating bayesian AB tests results\n",
    "* Done with conversions -> BinaryDataTest\n",
    "* TBD with RPU -> DeltaLognormalDataTest"
   ]
  },
  {
   "cell_type": "markdown",
   "id": "9dbe983b",
   "metadata": {},
   "source": [
    "---"
   ]
  },
  {
   "cell_type": "code",
   "execution_count": 1,
   "id": "4f8c0986",
   "metadata": {},
   "outputs": [],
   "source": [
    "import numpy as np\n",
    "import pandas as pd\n",
    "import matplotlib.pyplot as plt\n",
    "import scipy.stats as stats\n",
    "import scipy.stats as scs\n",
    "from bayes_ab.experiments import BinaryDataTest"
   ]
  },
  {
   "cell_type": "code",
   "execution_count": 2,
   "id": "f894f8a8",
   "metadata": {},
   "outputs": [],
   "source": [
    "class Calculations(object):\n",
    "    def __init__(self, visitors_A, conversions_A, visitors_B, conversions_B, test_duration, percent_traffic_in_test, aov, min_rev_yield):\n",
    "        self.visitors_A = visitors_A\n",
    "        self.conversions_A = conversions_A\n",
    "        self.visitors_B = visitors_B\n",
    "        self.conversions_B = conversions_B\n",
    "        self.control_cr = conversions_A / visitors_A\n",
    "        self.variant_cr = conversions_B / visitors_B\n",
    "        self.relative_difference = self.variant_cr / self.control_cr - 1\n",
    "        self.test_duration = test_duration\n",
    "        self.percent_traffic_in_test = percent_traffic_in_test\n",
    "        self.min_rev_yield = min_rev_yield\n",
    "        self.aov = aov\n",
    "        \n",
    "    def calculate_probabilities(self):\n",
    "        \n",
    "        alpha_prior = 1\n",
    "        beta_prior = 1\n",
    "        samples = 50000\n",
    "\n",
    "        test = BinaryDataTest()\n",
    "        test.add_variant_data_agg(\"A\", self.visitors_A,  self.conversions_A, a_prior=alpha_prior, b_prior=beta_prior)\n",
    "        test.add_variant_data_agg(\"B\", self.visitors_B,  self.conversions_B, a_prior=alpha_prior, b_prior=beta_prior)\n",
    "\n",
    "\n",
    "        #test.evaluate(sim_count=samples, seed=314)\n",
    "        test.evaluate(sim_count=samples)\n",
    "\n",
    "        # access simulation samples and evaluation metrics\n",
    "        results = test.data\n",
    "\n",
    "        self.prob_A = results['A']['chance_to_beat']\n",
    "        self.prob_B = 1 - self.prob_A\n",
    "        \n",
    "        #relative difference not absolute\n",
    "        difference = results['B']['uplift_vs_a']\n",
    "\n",
    "        six_months_in_days = 182.5\n",
    "        visitors_in_six_months = (self.visitors_A + self.visitors_B) / (self.percent_traffic_in_test / 100) / self.test_duration * six_months_in_days\n",
    "        \n",
    "        self.expected_risk   = visitors_in_six_months * self.aov * results['B']['exp_loss']\n",
    "        self.expected_uplift = visitors_in_six_months * self.aov * self.control_cr * difference\n",
    "\n",
    "        \n",
    "        self.total_contribution   =  self.expected_uplift * self.prob_B - self.expected_risk * self.prob_A \n"
   ]
  },
  {
   "cell_type": "code",
   "execution_count": 3,
   "id": "0a5c6cd5",
   "metadata": {},
   "outputs": [
    {
     "name": "stdout",
     "output_type": "stream",
     "text": [
      "2024-01-27 13:44:59,252 - bayes_ab - WARNING - There is at least a 1% probability that the estimated expected loss is not within 0.0001 tolerance.\n",
      "+---------+--------+-----------+-------------+----------------+--------------------+---------------+----------------+------------------+\n",
      "| Variant | Totals | Positives | Sample rate | Posterior rate | Chance to beat all | Expected loss | Uplift vs. \"A\" |     95% HDI      |\n",
      "+---------+--------+-----------+-------------+----------------+--------------------+---------------+----------------+------------------+\n",
      "|    B    |  5000  |    1600   |    32.00%   |     32.01%     |       98.51%       |     0.00%     |     6.66%      | [30.72%, 33.31%] |\n",
      "|    A    |  5000  |    1500   |    30.00%   |     30.01%     |       1.49%        |     2.01%     |     0.00%      | [28.75%, 31.29%] |\n",
      "+---------+--------+-----------+-------------+----------------+--------------------+---------------+----------------+------------------+ \n",
      "\n",
      "CR A: 30.00% , CR B: 32.00% , relative difference: 6.67%\n",
      "Chance of being worse 1.49% chance of being best 98.51%\n",
      "Expected risk $628 , expected uplift $260,532 , total contribution $256,630\n"
     ]
    },
    {
     "name": "stderr",
     "output_type": "stream",
     "text": [
      "/Users/fer.maquedano/anaconda3/lib/python3.11/site-packages/bayes_ab/metrics/evaluation.py:260: UserWarning: There is at least a 1% probability that the estimated expected loss is not within 0.0001 tolerance.\n",
      "  warnings.warn(msg)\n"
     ]
    }
   ],
   "source": [
    "#b = Calculations(visitors_A, conversions_A, visitors_B, conversions_B, test_duration, traffic_test, aov, min_rev_yield)\n",
    "bayes = Calculations(5000, 1500, 5000, 1600, 14, 100, 100, 5000)\n",
    "bayes.calculate_probabilities()\n",
    "print(\"CR A:\", f\"{bayes.control_cr:.2%}\", \", CR B:\", f\"{bayes.variant_cr:.2%}\", \", relative difference:\", f\"{bayes.relative_difference:.2%}\") \n",
    "print(\"Chance of being worse\", f\"{bayes.prob_A:.2%}\", \"chance of being best\", f\"{bayes.prob_B:.2%}\")\n",
    "print(\"Expected risk\", f\"${bayes.expected_risk:,.0f}\", \", expected uplift\", f\"${bayes.expected_uplift:,.0f}\", \", total contribution\", f\"${bayes.total_contribution:,.0f}\")"
   ]
  },
  {
   "cell_type": "markdown",
   "id": "d618d7ca",
   "metadata": {},
   "source": [
    "## Bayesian calculations for RPU (TBD)"
   ]
  },
  {
   "cell_type": "code",
   "execution_count": 5,
   "id": "555d8922",
   "metadata": {},
   "outputs": [
    {
     "data": {
      "text/html": [
       "<div>\n",
       "<style scoped>\n",
       "    .dataframe tbody tr th:only-of-type {\n",
       "        vertical-align: middle;\n",
       "    }\n",
       "\n",
       "    .dataframe tbody tr th {\n",
       "        vertical-align: top;\n",
       "    }\n",
       "\n",
       "    .dataframe thead th {\n",
       "        text-align: right;\n",
       "    }\n",
       "</style>\n",
       "<table border=\"1\" class=\"dataframe\">\n",
       "  <thead>\n",
       "    <tr style=\"text-align: right;\">\n",
       "      <th></th>\n",
       "      <th>Control</th>\n",
       "      <th>Variant</th>\n",
       "    </tr>\n",
       "  </thead>\n",
       "  <tbody>\n",
       "    <tr>\n",
       "      <th>count</th>\n",
       "      <td>9767.000000</td>\n",
       "      <td>9726.000000</td>\n",
       "    </tr>\n",
       "    <tr>\n",
       "      <th>mean</th>\n",
       "      <td>5.060612</td>\n",
       "      <td>4.063747</td>\n",
       "    </tr>\n",
       "    <tr>\n",
       "      <th>std</th>\n",
       "      <td>38.856811</td>\n",
       "      <td>25.932426</td>\n",
       "    </tr>\n",
       "    <tr>\n",
       "      <th>min</th>\n",
       "      <td>0.000000</td>\n",
       "      <td>0.000000</td>\n",
       "    </tr>\n",
       "    <tr>\n",
       "      <th>25%</th>\n",
       "      <td>0.000000</td>\n",
       "      <td>0.000000</td>\n",
       "    </tr>\n",
       "    <tr>\n",
       "      <th>50%</th>\n",
       "      <td>0.000000</td>\n",
       "      <td>0.000000</td>\n",
       "    </tr>\n",
       "    <tr>\n",
       "      <th>75%</th>\n",
       "      <td>0.000000</td>\n",
       "      <td>0.000000</td>\n",
       "    </tr>\n",
       "    <tr>\n",
       "      <th>max</th>\n",
       "      <td>1204.000000</td>\n",
       "      <td>617.000000</td>\n",
       "    </tr>\n",
       "  </tbody>\n",
       "</table>\n",
       "</div>"
      ],
      "text/plain": [
       "           Control      Variant\n",
       "count  9767.000000  9726.000000\n",
       "mean      5.060612     4.063747\n",
       "std      38.856811    25.932426\n",
       "min       0.000000     0.000000\n",
       "25%       0.000000     0.000000\n",
       "50%       0.000000     0.000000\n",
       "75%       0.000000     0.000000\n",
       "max    1204.000000   617.000000"
      ]
     },
     "execution_count": 5,
     "metadata": {},
     "output_type": "execute_result"
    }
   ],
   "source": [
    "df = pd.read_csv('output/SampleRevenueData.csv')\n",
    "df.describe()"
   ]
  }
 ],
 "metadata": {
  "kernelspec": {
   "display_name": "Python 3 (ipykernel)",
   "language": "python",
   "name": "python3"
  },
  "language_info": {
   "codemirror_mode": {
    "name": "ipython",
    "version": 3
   },
   "file_extension": ".py",
   "mimetype": "text/x-python",
   "name": "python",
   "nbconvert_exporter": "python",
   "pygments_lexer": "ipython3",
   "version": "3.11.5"
  }
 },
 "nbformat": 4,
 "nbformat_minor": 5
}
