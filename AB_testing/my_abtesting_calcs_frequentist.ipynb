{
 "cells": [
  {
   "cell_type": "markdown",
   "id": "a76bda4b-644b-4a1b-acb3-f2f4a6b80525",
   "metadata": {},
   "source": [
    "## AB tests snippets - frequentist calcs\n"
   ]
  },
  {
   "cell_type": "code",
   "execution_count": 1,
   "id": "336fab3e-ca6a-400c-a121-09b317a9735b",
   "metadata": {
    "tags": []
   },
   "outputs": [],
   "source": [
    "import math as mt\n",
    "import numpy as np\n",
    "import pandas as pd\n",
    "from scipy.stats import norm\n",
    "import matplotlib.pyplot as plt\n",
    "import scipy.stats as scs\n",
    "import matplotlib.ticker as mtick\n",
    "import seaborn as sns"
   ]
  },
  {
   "cell_type": "markdown",
   "id": "d3d8ac7c-9f81-4b8d-9f5c-9c32c39b85e7",
   "metadata": {},
   "source": [
    "### Example of Significance Power Calculator"
   ]
  },
  {
   "cell_type": "code",
   "execution_count": 2,
   "id": "8daeddef-b9c0-4caa-ad0b-1685b60ca9ab",
   "metadata": {
    "tags": []
   },
   "outputs": [],
   "source": [
    "#based on pooled is the best calculation\n",
    "def binomial_sample_size(metric, mde, alpha, beta):\n",
    "    # standard normal distribution to determine z-values\n",
    "    snd = norm(0, 1)\n",
    "\n",
    "    Z_beta = snd.ppf(1-beta)\n",
    "    print(Z_beta)\n",
    "\n",
    "    Z_alpha = snd.ppf(1-alpha/2)\n",
    "    print(Z_alpha)\n",
    "\n",
    "    # average of probabilities from both groups. This is the pooled probability\n",
    "    p_pooled = (metric + metric + mde) / 2\n",
    "    print(p_pooled)\n",
    "\n",
    "    N = (2 * p_pooled * \n",
    "             (1 - p_pooled) * \n",
    "             (Z_beta + Z_alpha)**2\n",
    "             / mde**2)\n",
    "\n",
    "    print((Z_beta + Z_alpha)**2 / (mde**2))\n",
    "    return int(N)"
   ]
  },
  {
   "cell_type": "code",
   "execution_count": 3,
   "id": "f91a24f0-7557-4b38-a48f-7ee39fa4a173",
   "metadata": {
    "tags": []
   },
   "outputs": [
    {
     "name": "stdout",
     "output_type": "stream",
     "text": [
      "0.8416212335729143\n",
      "1.959963984540054\n",
      "0.34\n",
      "19622.19933587272\n"
     ]
    },
    {
     "data": {
      "text/plain": [
       "8806"
      ]
     },
     "execution_count": 3,
     "metadata": {},
     "output_type": "execute_result"
    }
   ],
   "source": [
    "binomial_sample_size(metric=0.33, mde=0.02, alpha=0.05, beta=0.2)"
   ]
  },
  {
   "cell_type": "markdown",
   "id": "22959cae-2ffd-4a5b-a89c-42d48fdc67b9",
   "metadata": {},
   "source": [
    "### From Udacity course"
   ]
  },
  {
   "cell_type": "code",
   "execution_count": 4,
   "id": "69142479-52c1-4f0b-80fa-30337ff2fe9b",
   "metadata": {
    "tags": []
   },
   "outputs": [],
   "source": [
    "def get_sds(p,d):\n",
    "    sd1=mt.sqrt(2*p*(1-p))\n",
    "    sd2=mt.sqrt(p*(1-p)+(p+d)*(1-(p+d)))\n",
    "    x=[sd1,sd2]\n",
    "    return x\n",
    "\n",
    "#Inputs: required alpha value (alpha should already fit the required test)\n",
    "#Returns: z-score for given alpha\n",
    "def get_z_score(alpha):\n",
    "    return norm.ppf(alpha)\n",
    "\n",
    "# Inputs p-baseline conversion rate which is our estimated p and d-minimum detectable change\n",
    "# Returns\n",
    "def get_sds(p,d):\n",
    "    sd1=mt.sqrt(2*p*(1-p))\n",
    "    sd2=mt.sqrt(p*(1-p)+(p+d)*(1-(p+d)))\n",
    "    sds=[sd1,sd2]\n",
    "    return sds\n",
    "\n",
    "# Inputs:sd1-sd for the baseline,sd2-sd for the expected change,alpha,beta,d-d_min,p-baseline estimate p\n",
    "# Returns: the minimum sample size required per group according to metric denominator\n",
    "def get_sampSize(sds,alpha,beta,d):\n",
    "    n=pow((get_z_score(1-alpha/2)*sds[0] + get_z_score(1-beta)*sds[1]),2)/pow(d,2)\n",
    "    return n"
   ]
  },
  {
   "cell_type": "markdown",
   "id": "b69f1d6e-d0d6-43ef-a3a6-6e17f423005a",
   "metadata": {},
   "source": [
    "#### Calculating the sample size"
   ]
  },
  {
   "cell_type": "code",
   "execution_count": 5,
   "id": "b6dc4140-f16c-4f2b-b88b-315bd706288d",
   "metadata": {
    "tags": []
   },
   "outputs": [
    {
     "data": {
      "text/plain": [
       "8714.567712731887"
      ]
     },
     "execution_count": 5,
     "metadata": {},
     "output_type": "execute_result"
    }
   ],
   "source": [
    "# prob or conversion rate\n",
    "p = 0.33\n",
    "#Expected uplift \n",
    "d = 0.02\n",
    "\n",
    "get_sampSize(get_sds(p,d),0.05,0.2,d)\n"
   ]
  },
  {
   "cell_type": "markdown",
   "id": "74b6d062-a61f-4ffb-be11-46d617012852",
   "metadata": {},
   "source": [
    "#### Sanity Checks (sample mismatch)\n",
    "\n",
    "* **Sanity Checks for differences between counts** "
   ]
  },
  {
   "cell_type": "code",
   "execution_count": 6,
   "id": "bbf85126-b8f2-45e8-bf9b-faa519dde461",
   "metadata": {
    "tags": []
   },
   "outputs": [
    {
     "name": "stdout",
     "output_type": "stream",
     "text": [
      "The confidence interval is between 0.489 and 0.511 ; Is 0.5 inside this range?\n"
     ]
    }
   ],
   "source": [
    "p=0.5\n",
    "alpha=0.05\n",
    "pageviews_cont=4000\n",
    "pageviews_total=8000\n",
    "\n",
    "p_hat=round(pageviews_cont/(pageviews_total),4)\n",
    "sd=mt.sqrt(p*(1-p)/(pageviews_total))\n",
    "ME=round(get_z_score(1-(alpha/2))*sd,4)\n",
    "print (\"The confidence interval is between\",p-ME,\"and\",p+ME,\"; Is\",p_hat,\"inside this range?\")"
   ]
  },
  {
   "cell_type": "markdown",
   "id": "2df8e2b2-d808-49dd-8e32-5d4bb07c851d",
   "metadata": {},
   "source": [
    "* **Sanity Checks for differences between probabilities** "
   ]
  },
  {
   "cell_type": "code",
   "execution_count": 7,
   "id": "9ed1ea5f-1d78-4899-b56e-602b0fe999e2",
   "metadata": {
    "tags": []
   },
   "outputs": [
    {
     "name": "stdout",
     "output_type": "stream",
     "text": [
      "The confidence interval is between -0.017 and 0.017 ; Is 0.0 within this range?\n"
     ]
    }
   ],
   "source": [
    "clicks_cont= 3000\n",
    "pageviews_cont= 5000\n",
    "clicks_exp = 3000\n",
    "pageviews_exp= 5000\n",
    "clicks_total = clicks_cont + clicks_exp\n",
    "\n",
    "ctp_cont=clicks_cont/pageviews_cont\n",
    "ctp_exp=clicks_exp/pageviews_exp\n",
    "d_hat=round(ctp_exp-ctp_cont,4)\n",
    "p_pooled=clicks_total/pageviews_total\n",
    "sd_pooled=mt.sqrt(p_pooled*(1-p_pooled)*(1/pageviews_cont+1/pageviews_exp))\n",
    "ME=round(get_z_score(1-(alpha/2))*sd_pooled,4)\n",
    "print (\"The confidence interval is between\",0-ME,\"and\",0+ME,\"; Is\",d_hat,\"within this range?\")"
   ]
  },
  {
   "cell_type": "markdown",
   "id": "47579866-eac9-46fd-b39c-dfb5a54e5448",
   "metadata": {
    "tags": []
   },
   "source": [
    "#### we calculate the confidence intervals"
   ]
  },
  {
   "cell_type": "code",
   "execution_count": 8,
   "id": "361a64d2-ef60-44cb-b166-2b486e892271",
   "metadata": {
    "tags": []
   },
   "outputs": [
    {
     "name": "stdout",
     "output_type": "stream",
     "text": [
      "The p_cont is:  0.2 The p_cont margings are: [ 0.1873 , 0.2127 ]\n",
      "The p_exp is:  0.22625 The p_cont margings are: [ 0.2136 , 0.239 ]\n",
      "The change due to the experiment is 2.62 % (absolute)\n",
      "The ME is:  0.0127\n",
      "Confidence Interval: [ 0.013500000000000002 , 0.038900000000000004 ]\n"
     ]
    }
   ],
   "source": [
    "alpha=0.05\n",
    "\n",
    "n_cont=8000\n",
    "x_cont=1600\n",
    "n_exp=8000\n",
    "x_exp=1810\n",
    "\n",
    "\n",
    "p_cont=x_cont/n_cont\n",
    "p_exp=x_exp/n_exp\n",
    "\n",
    "\n",
    "p_pooled=(x_cont+x_exp)/(n_cont+n_exp)\n",
    "sd_pooled=mt.sqrt(p_pooled*(1-p_pooled)*(1/n_cont+1/n_exp))\n",
    "ME=round(get_z_score(1-alpha/2)*sd_pooled,4)\n",
    "p_diff=round(p_exp-p_cont,4)\n",
    "\n",
    "print(\"The p_cont is: \", p_cont, \"The p_cont margings are: [\",round(p_cont-ME,4),\",\",round(p_cont+ME,4),\"]\" )\n",
    "print(\"The p_exp is: \", p_exp,   \"The p_cont margings are: [\",round(p_exp-ME,4),\",\",round(p_exp+ME,4),\"]\" )\n",
    "\n",
    "print(\"The change due to the experiment is\", p_diff*100,\"% (absolute)\")\n",
    "print(\"The ME is: \", ME)\n",
    "print(\"Confidence Interval: [\",p_diff-ME,\",\",p_diff+ME,\"]\")"
   ]
  },
  {
   "cell_type": "code",
   "execution_count": 9,
   "id": "58fe5eec",
   "metadata": {
    "tags": []
   },
   "outputs": [
    {
     "name": "stdout",
     "output_type": "stream",
     "text": [
      "The change due to the experiment is 2.8899999999999997 % (absolute)\n",
      "Confidence Interval: [ 0.0202 , 0.037599999999999995 ]\n"
     ]
    }
   ],
   "source": [
    "alpha=0.05\n",
    "\n",
    "n_cont=10072\n",
    "x_cont=974\n",
    "n_exp=9886\n",
    "x_exp=1242\n",
    "\n",
    "\n",
    "p_cont=x_cont/n_cont\n",
    "p_exp=x_exp/n_exp\n",
    "\n",
    "\n",
    "p_pooled=(x_cont+x_exp)/(n_cont+n_exp)\n",
    "sd_pooled=mt.sqrt(p_pooled*(1-p_pooled)*(1/n_cont+1/n_exp))\n",
    "ME=round(get_z_score(1-alpha/2)*sd_pooled,4)\n",
    "p_diff=round(p_exp-p_cont,4)\n",
    "\n",
    "print(\"The change due to the experiment is\", p_diff*100,\"% (absolute)\")\n",
    "print(\"Confidence Interval: [\",p_diff-ME,\",\",p_diff+ME,\"]\")"
   ]
  },
  {
   "cell_type": "markdown",
   "id": "a953cc55-a1df-45a6-9e3e-17eb08e9bf76",
   "metadata": {},
   "source": [
    "## From AB testing calculator github\n",
    "\n",
    "### Compute sample size"
   ]
  },
  {
   "cell_type": "code",
   "execution_count": 10,
   "id": "2737f872-1c51-4004-bca4-207aa7103957",
   "metadata": {
    "tags": []
   },
   "outputs": [],
   "source": [
    "#mde is absolute (the absolute increase)\n",
    "def compute_sample_size(p0, mde, alpha=0.05, beta=0.2, tails=\"Two\"):\n",
    "    \n",
    "    # Conditional alpha value based on whether one or two tail test\n",
    "    if tails == \"Two\":\n",
    "        computed_alpha = alpha / 2\n",
    "    else:\n",
    "        computed_alpha = alpha\n",
    "\n",
    "    p1 = p0 + mde\n",
    "    \n",
    "    #commented: if mde is relative, ie. a lift in conversion rate %\n",
    "    # p1 = p0 * (1 + mde)\n",
    "\n",
    "    print(p1)\n",
    "    N = (\n",
    "        (norm.ppf(1 - computed_alpha) + norm.ppf(1 - beta)) ** 2\n",
    "        * (p0 * (1 - p0) + p1 * (1 - p1))\n",
    "        / ((p0 - p1) ** 2)\n",
    "    )\n",
    "    \n",
    "    \n",
    "    print((norm.ppf(1 - computed_alpha) + norm.ppf(1 - beta)) ** 2/ ((p0 - p1) ** 2))\n",
    "    print(p0 - p1)\n",
    "        \n",
    "    return int(N)"
   ]
  },
  {
   "cell_type": "code",
   "execution_count": 11,
   "id": "f2babbfa-1e4c-47f1-b22c-96038f496960",
   "metadata": {
    "tags": []
   },
   "outputs": [
    {
     "name": "stdout",
     "output_type": "stream",
     "text": [
      "0.35000000000000003\n",
      "19622.199335872687\n",
      "-0.020000000000000018\n"
     ]
    },
    {
     "data": {
      "text/plain": [
       "8802"
      ]
     },
     "execution_count": 11,
     "metadata": {},
     "output_type": "execute_result"
    }
   ],
   "source": [
    "compute_sample_size(0.33, 0.02)"
   ]
  },
  {
   "cell_type": "markdown",
   "id": "53f2c1d9-c2d4-4811-9466-93411eeb723d",
   "metadata": {},
   "source": [
    "### Z test"
   ]
  },
  {
   "cell_type": "code",
   "execution_count": 12,
   "id": "2c94ca47-db28-471a-b2e0-cc48374f015f",
   "metadata": {
    "tags": []
   },
   "outputs": [],
   "source": [
    "def z_test(visitors_A, conversions_A, visitors_B, conversions_B, alpha=0.05, tail_direction=\"two tail\"):\n",
    "    \"\"\"Run a Z-test with your data, returning the Z-score and p-value.\n",
    "\n",
    "    Returns\n",
    "    -------\n",
    "    z_score : float\n",
    "        Number of standard deviations between the mean of the control\n",
    "        conversion rate distribution and the variant conversion rate\n",
    "    p_value : float\n",
    "        Probability of obtaining test results at least as extreme as the\n",
    "        observed results, under the conditions of the null hypothesis\n",
    "    \"\"\"\n",
    "\n",
    "    control_cr = conversions_A / visitors_A\n",
    "    variant_cr = conversions_B / visitors_B\n",
    "    relative_difference = variant_cr / control_cr - 1\n",
    "    \n",
    "    control_se = (control_cr * (1 - control_cr) / visitors_A) ** 0.5\n",
    "    variant_se = (variant_cr * (1 - variant_cr) / visitors_B) ** 0.5\n",
    "    se_difference = (control_se ** 2 + variant_se ** 2) ** 0.5\n",
    "    \n",
    "    pool_cr = (conversions_A + conversions_B) / (\n",
    "        visitors_A + visitors_B\n",
    "    )\n",
    "    pool_se = (\n",
    "        pool_cr\n",
    "        * (1 - pool_cr)\n",
    "        * (1 / visitors_A + 1 / visitors_B)\n",
    "    ) ** 0.5\n",
    "\n",
    "    # z-score\n",
    "    #z_score = (variant_cr - control_cr) / pool_se\n",
    "    z_score = (variant_cr - control_cr) / se_difference\n",
    "\n",
    "    # Calculate the p-value dependent on one or two tails\n",
    "    if tail_direction == \"left\":\n",
    "        p_value = norm.cdf(-z_score)\n",
    "    elif tail_direction == \"right\":\n",
    "        p_value = norm.cdf(z_score)\n",
    "    else:\n",
    "        p_value = 2 * norm.cdf(-abs(z_score))\n",
    "\n",
    "    return round(z_score,4), round(p_value,4)\n",
    "    "
   ]
  },
  {
   "cell_type": "code",
   "execution_count": 13,
   "id": "e38ccda6-eb34-478a-bb3f-67543b91afa4",
   "metadata": {
    "tags": []
   },
   "outputs": [
    {
     "data": {
      "text/plain": [
       "(1.6716, 0.0946)"
      ]
     },
     "execution_count": 13,
     "metadata": {},
     "output_type": "execute_result"
    }
   ],
   "source": [
    "z_test(80000, 1600, 80050, 1696)"
   ]
  }
 ],
 "metadata": {
  "kernelspec": {
   "display_name": "Python 3 (ipykernel)",
   "language": "python",
   "name": "python3"
  },
  "language_info": {
   "codemirror_mode": {
    "name": "ipython",
    "version": 3
   },
   "file_extension": ".py",
   "mimetype": "text/x-python",
   "name": "python",
   "nbconvert_exporter": "python",
   "pygments_lexer": "ipython3",
   "version": "3.11.5"
  }
 },
 "nbformat": 4,
 "nbformat_minor": 5
}
